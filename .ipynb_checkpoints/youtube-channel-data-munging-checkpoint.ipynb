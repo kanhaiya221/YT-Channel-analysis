{
 "cells": [
  {
   "cell_type": "code",
   "execution_count": 1,
   "metadata": {
    "_cell_guid": "b1076dfc-b9ad-4769-8c92-a6c4dae69d19",
    "_uuid": "8f2839f25d086af736a60e9eeb907d3b93b6e0e5",
    "execution": {
     "iopub.execute_input": "2023-04-12T13:15:49.266707Z",
     "iopub.status.busy": "2023-04-12T13:15:49.266229Z",
     "iopub.status.idle": "2023-04-12T13:15:49.305980Z",
     "shell.execute_reply": "2023-04-12T13:15:49.304727Z",
     "shell.execute_reply.started": "2023-04-12T13:15:49.266652Z"
    }
   },
   "outputs": [
    {
     "name": "stdout",
     "output_type": "stream",
     "text": [
      "/kaggle/input/youtube-channel/krish.csv\n"
     ]
    }
   ],
   "source": [
    "# This Python 3 environment comes with many helpful analytics libraries installed\n",
    "# It is defined by the kaggle/python Docker image: https://github.com/kaggle/docker-python\n",
    "# For example, here's several helpful packages to load\n",
    "\n",
    "import numpy as np # linear algebra\n",
    "import pandas as pd # data processing, CSV file I/O (e.g. pd.read_csv)\n",
    "\n",
    "# Input data files are available in the read-only \"../input/\" directory\n",
    "# For example, running this (by clicking run or pressing Shift+Enter) will list all files under the input directory\n",
    "\n",
    "import os\n",
    "for dirname, _, filenames in os.walk('/kaggle/input'):\n",
    "    for filename in filenames:\n",
    "        print(os.path.join(dirname, filename))\n",
    "\n",
    "# You can write up to 20GB to the current directory (/kaggle/working/) that gets preserved as output when you create a version using \"Save & Run All\" \n",
    "# You can also write temporary files to /kaggle/temp/, but they won't be saved outside of the current session"
   ]
  },
  {
   "cell_type": "markdown",
   "metadata": {},
   "source": [
    "# YouTube channel Data cleaning"
   ]
  },
  {
   "cell_type": "markdown",
   "metadata": {},
   "source": [
    "As data extracted using API is not clean and well arranged"
   ]
  },
  {
   "cell_type": "code",
   "execution_count": 1,
   "metadata": {
    "execution": {
     "iopub.execute_input": "2023-04-12T13:19:39.951684Z",
     "iopub.status.busy": "2023-04-12T13:19:39.950630Z",
     "iopub.status.idle": "2023-04-12T13:19:53.554335Z",
     "shell.execute_reply": "2023-04-12T13:19:53.553021Z",
     "shell.execute_reply.started": "2023-04-12T13:19:39.951627Z"
    }
   },
   "outputs": [
    {
     "name": "stdout",
     "output_type": "stream",
     "text": [
      "Collecting isodate\n",
      "  Downloading isodate-0.6.1-py2.py3-none-any.whl (41 kB)\n",
      "     -------------------------------------- 41.7/41.7 kB 403.6 kB/s eta 0:00:00\n",
      "Requirement already satisfied: six in c:\\users\\candy\\anaconda3\\lib\\site-packages (from isodate) (1.16.0)\n",
      "Installing collected packages: isodate\n",
      "Successfully installed isodate-0.6.1\n"
     ]
    }
   ],
   "source": [
    "!pip3 install  isodate"
   ]
  },
  {
   "cell_type": "code",
   "execution_count": 2,
   "metadata": {
    "execution": {
     "iopub.execute_input": "2023-04-12T13:19:57.116578Z",
     "iopub.status.busy": "2023-04-12T13:19:57.115174Z",
     "iopub.status.idle": "2023-04-12T13:19:57.134305Z",
     "shell.execute_reply": "2023-04-12T13:19:57.132736Z",
     "shell.execute_reply.started": "2023-04-12T13:19:57.116513Z"
    }
   },
   "outputs": [],
   "source": [
    "import pandas as pd\n",
    "import numpy as np\n",
    "from dateutil import parser\n",
    "import isodate"
   ]
  },
  {
   "cell_type": "code",
   "execution_count": 4,
   "metadata": {
    "execution": {
     "iopub.execute_input": "2023-04-12T13:19:59.640457Z",
     "iopub.status.busy": "2023-04-12T13:19:59.639978Z",
     "iopub.status.idle": "2023-04-12T13:19:59.698531Z",
     "shell.execute_reply": "2023-04-12T13:19:59.697372Z",
     "shell.execute_reply.started": "2023-04-12T13:19:59.640415Z"
    }
   },
   "outputs": [],
   "source": [
    "df = pd.read_csv(\"Raw_data_of _channel.csv\")"
   ]
  },
  {
   "cell_type": "code",
   "execution_count": 5,
   "metadata": {
    "execution": {
     "iopub.execute_input": "2023-04-12T13:20:00.785777Z",
     "iopub.status.busy": "2023-04-12T13:20:00.785276Z",
     "iopub.status.idle": "2023-04-12T13:20:00.807395Z",
     "shell.execute_reply": "2023-04-12T13:20:00.806136Z",
     "shell.execute_reply.started": "2023-04-12T13:20:00.785737Z"
    }
   },
   "outputs": [
    {
     "data": {
      "text/html": [
       "<div>\n",
       "<style scoped>\n",
       "    .dataframe tbody tr th:only-of-type {\n",
       "        vertical-align: middle;\n",
       "    }\n",
       "\n",
       "    .dataframe tbody tr th {\n",
       "        vertical-align: top;\n",
       "    }\n",
       "\n",
       "    .dataframe thead th {\n",
       "        text-align: right;\n",
       "    }\n",
       "</style>\n",
       "<table border=\"1\" class=\"dataframe\">\n",
       "  <thead>\n",
       "    <tr style=\"text-align: right;\">\n",
       "      <th></th>\n",
       "      <th>video_id</th>\n",
       "      <th>title</th>\n",
       "      <th>description</th>\n",
       "      <th>tags</th>\n",
       "      <th>publishedAt</th>\n",
       "      <th>viewCount</th>\n",
       "      <th>likeCount</th>\n",
       "      <th>commentCount</th>\n",
       "      <th>duration</th>\n",
       "    </tr>\n",
       "  </thead>\n",
       "  <tbody>\n",
       "    <tr>\n",
       "      <th>0</th>\n",
       "      <td>Xniji2m85LY</td>\n",
       "      <td>Tutorial 11- How To Deploy End To End ML Proje...</td>\n",
       "      <td>In this videos we will be seeing how we can de...</td>\n",
       "      <td>['yt:cc=on', 'aws deployment', 'ec2 instance m...</td>\n",
       "      <td>2023-04-09T04:02:24Z</td>\n",
       "      <td>6145</td>\n",
       "      <td>198</td>\n",
       "      <td>16.0</td>\n",
       "      <td>PT45M35S</td>\n",
       "    </tr>\n",
       "    <tr>\n",
       "      <th>1</th>\n",
       "      <td>SkzmbeYCtiU</td>\n",
       "      <td>Tutorial 10- Deployment Of ML Application In A...</td>\n",
       "      <td>In this videos we will be seeing how we can de...</td>\n",
       "      <td>['yt:cc=on', 'end to end ml project in azure w...</td>\n",
       "      <td>2023-03-31T15:30:23Z</td>\n",
       "      <td>6927</td>\n",
       "      <td>271</td>\n",
       "      <td>27.0</td>\n",
       "      <td>PT13M28S</td>\n",
       "    </tr>\n",
       "    <tr>\n",
       "      <th>2</th>\n",
       "      <td>8vmKtS8W7IQ</td>\n",
       "      <td>Complete Dockers For Data Science Tutorial In ...</td>\n",
       "      <td>In this videos we will be seeing how we can im...</td>\n",
       "      <td>['yt:cc=on', 'complete dockers tutorials', 'do...</td>\n",
       "      <td>2023-03-29T13:02:23Z</td>\n",
       "      <td>26201</td>\n",
       "      <td>872</td>\n",
       "      <td>39.0</td>\n",
       "      <td>PT1H19M29S</td>\n",
       "    </tr>\n",
       "    <tr>\n",
       "      <th>3</th>\n",
       "      <td>1m3CPP-93RI</td>\n",
       "      <td>End To End Data Science Project Implementation...</td>\n",
       "      <td>In this videos we will be seeing how we can im...</td>\n",
       "      <td>['yt:cc=on', 'end to end data science project ...</td>\n",
       "      <td>2023-03-26T05:25:20Z</td>\n",
       "      <td>22638</td>\n",
       "      <td>922</td>\n",
       "      <td>66.0</td>\n",
       "      <td>PT4H18M5S</td>\n",
       "    </tr>\n",
       "    <tr>\n",
       "      <th>4</th>\n",
       "      <td>6I2m7VtGLU4</td>\n",
       "      <td>Judging India's Largest Hackathon @physicswallah</td>\n",
       "      <td>NaN</td>\n",
       "      <td>NaN</td>\n",
       "      <td>2023-03-20T17:51:41Z</td>\n",
       "      <td>7452</td>\n",
       "      <td>256</td>\n",
       "      <td>15.0</td>\n",
       "      <td>PT9S</td>\n",
       "    </tr>\n",
       "  </tbody>\n",
       "</table>\n",
       "</div>"
      ],
      "text/plain": [
       "      video_id                                              title  \\\n",
       "0  Xniji2m85LY  Tutorial 11- How To Deploy End To End ML Proje...   \n",
       "1  SkzmbeYCtiU  Tutorial 10- Deployment Of ML Application In A...   \n",
       "2  8vmKtS8W7IQ  Complete Dockers For Data Science Tutorial In ...   \n",
       "3  1m3CPP-93RI  End To End Data Science Project Implementation...   \n",
       "4  6I2m7VtGLU4   Judging India's Largest Hackathon @physicswallah   \n",
       "\n",
       "                                         description  \\\n",
       "0  In this videos we will be seeing how we can de...   \n",
       "1  In this videos we will be seeing how we can de...   \n",
       "2  In this videos we will be seeing how we can im...   \n",
       "3  In this videos we will be seeing how we can im...   \n",
       "4                                                NaN   \n",
       "\n",
       "                                                tags           publishedAt  \\\n",
       "0  ['yt:cc=on', 'aws deployment', 'ec2 instance m...  2023-04-09T04:02:24Z   \n",
       "1  ['yt:cc=on', 'end to end ml project in azure w...  2023-03-31T15:30:23Z   \n",
       "2  ['yt:cc=on', 'complete dockers tutorials', 'do...  2023-03-29T13:02:23Z   \n",
       "3  ['yt:cc=on', 'end to end data science project ...  2023-03-26T05:25:20Z   \n",
       "4                                                NaN  2023-03-20T17:51:41Z   \n",
       "\n",
       "   viewCount  likeCount  commentCount    duration  \n",
       "0       6145        198          16.0    PT45M35S  \n",
       "1       6927        271          27.0    PT13M28S  \n",
       "2      26201        872          39.0  PT1H19M29S  \n",
       "3      22638        922          66.0   PT4H18M5S  \n",
       "4       7452        256          15.0        PT9S  "
      ]
     },
     "execution_count": 5,
     "metadata": {},
     "output_type": "execute_result"
    }
   ],
   "source": [
    "df.head()"
   ]
  },
  {
   "cell_type": "code",
   "execution_count": 6,
   "metadata": {
    "execution": {
     "iopub.execute_input": "2023-04-12T13:20:02.709865Z",
     "iopub.status.busy": "2023-04-12T13:20:02.709382Z",
     "iopub.status.idle": "2023-04-12T13:20:02.731088Z",
     "shell.execute_reply": "2023-04-12T13:20:02.729449Z",
     "shell.execute_reply.started": "2023-04-12T13:20:02.709822Z"
    }
   },
   "outputs": [
    {
     "name": "stdout",
     "output_type": "stream",
     "text": [
      "<class 'pandas.core.frame.DataFrame'>\n",
      "RangeIndex: 1588 entries, 0 to 1587\n",
      "Data columns (total 9 columns):\n",
      " #   Column        Non-Null Count  Dtype  \n",
      "---  ------        --------------  -----  \n",
      " 0   video_id      1588 non-null   object \n",
      " 1   title         1588 non-null   object \n",
      " 2   description   1573 non-null   object \n",
      " 3   tags          1339 non-null   object \n",
      " 4   publishedAt   1588 non-null   object \n",
      " 5   viewCount     1588 non-null   int64  \n",
      " 6   likeCount     1588 non-null   int64  \n",
      " 7   commentCount  1587 non-null   float64\n",
      " 8   duration      1588 non-null   object \n",
      "dtypes: float64(1), int64(2), object(6)\n",
      "memory usage: 111.8+ KB\n"
     ]
    }
   ],
   "source": [
    "df.info()"
   ]
  },
  {
   "cell_type": "code",
   "execution_count": 7,
   "metadata": {
    "execution": {
     "iopub.execute_input": "2023-04-12T13:20:03.930311Z",
     "iopub.status.busy": "2023-04-12T13:20:03.929807Z",
     "iopub.status.idle": "2023-04-12T13:20:03.940037Z",
     "shell.execute_reply": "2023-04-12T13:20:03.939049Z",
     "shell.execute_reply.started": "2023-04-12T13:20:03.930268Z"
    }
   },
   "outputs": [
    {
     "data": {
      "text/plain": [
       "video_id         object\n",
       "title            object\n",
       "description      object\n",
       "tags             object\n",
       "publishedAt      object\n",
       "viewCount         int64\n",
       "likeCount         int64\n",
       "commentCount    float64\n",
       "duration         object\n",
       "dtype: object"
      ]
     },
     "execution_count": 7,
     "metadata": {},
     "output_type": "execute_result"
    }
   ],
   "source": [
    "# Checking data types \n",
    "df.dtypes"
   ]
  },
  {
   "cell_type": "code",
   "execution_count": 8,
   "metadata": {
    "execution": {
     "iopub.execute_input": "2023-04-12T13:20:05.300743Z",
     "iopub.status.busy": "2023-04-12T13:20:05.299997Z",
     "iopub.status.idle": "2023-04-12T13:20:05.520620Z",
     "shell.execute_reply": "2023-04-12T13:20:05.519332Z",
     "shell.execute_reply.started": "2023-04-12T13:20:05.300656Z"
    }
   },
   "outputs": [],
   "source": [
    "# Need to change data types of  ['publish date', duration ] \n",
    "df['publishedAt'] = df['publishedAt'].apply(lambda x: parser.parse(x)) \n",
    "df['pushblishDayName'] = df['publishedAt'].apply(lambda x: x.strftime(\"%A\")) "
   ]
  },
  {
   "cell_type": "code",
   "execution_count": 9,
   "metadata": {
    "execution": {
     "iopub.execute_input": "2023-04-12T13:20:17.761127Z",
     "iopub.status.busy": "2023-04-12T13:20:17.760663Z",
     "iopub.status.idle": "2023-04-12T13:20:17.794218Z",
     "shell.execute_reply": "2023-04-12T13:20:17.793088Z",
     "shell.execute_reply.started": "2023-04-12T13:20:17.761088Z"
    }
   },
   "outputs": [],
   "source": [
    "# change duration \n",
    "df['durationSecs'] = df['duration'].apply(lambda x: isodate.parse_duration(x))\n",
    "df['durationSecs'] = df['durationSecs'].astype('timedelta64[s]')"
   ]
  },
  {
   "cell_type": "code",
   "execution_count": 10,
   "metadata": {
    "execution": {
     "iopub.execute_input": "2023-04-12T13:20:19.940330Z",
     "iopub.status.busy": "2023-04-12T13:20:19.939847Z",
     "iopub.status.idle": "2023-04-12T13:20:19.959352Z",
     "shell.execute_reply": "2023-04-12T13:20:19.957489Z",
     "shell.execute_reply.started": "2023-04-12T13:20:19.940287Z"
    }
   },
   "outputs": [
    {
     "name": "stdout",
     "output_type": "stream",
     "text": [
      "<class 'pandas.core.frame.DataFrame'>\n",
      "RangeIndex: 1588 entries, 0 to 1587\n",
      "Data columns (total 11 columns):\n",
      " #   Column            Non-Null Count  Dtype                  \n",
      "---  ------            --------------  -----                  \n",
      " 0   video_id          1588 non-null   object                 \n",
      " 1   title             1588 non-null   object                 \n",
      " 2   description       1573 non-null   object                 \n",
      " 3   tags              1339 non-null   object                 \n",
      " 4   publishedAt       1588 non-null   datetime64[ns, tzutc()]\n",
      " 5   viewCount         1588 non-null   int64                  \n",
      " 6   likeCount         1588 non-null   int64                  \n",
      " 7   commentCount      1587 non-null   float64                \n",
      " 8   duration          1588 non-null   object                 \n",
      " 9   pushblishDayName  1588 non-null   object                 \n",
      " 10  durationSecs      1588 non-null   float64                \n",
      "dtypes: datetime64[ns, tzutc()](1), float64(2), int64(2), object(6)\n",
      "memory usage: 136.6+ KB\n"
     ]
    }
   ],
   "source": [
    "df.info()"
   ]
  },
  {
   "cell_type": "code",
   "execution_count": 11,
   "metadata": {
    "execution": {
     "iopub.execute_input": "2023-04-12T13:20:21.231061Z",
     "iopub.status.busy": "2023-04-12T13:20:21.229707Z",
     "iopub.status.idle": "2023-04-12T13:20:21.261174Z",
     "shell.execute_reply": "2023-04-12T13:20:21.259990Z",
     "shell.execute_reply.started": "2023-04-12T13:20:21.231008Z"
    }
   },
   "outputs": [
    {
     "data": {
      "text/html": [
       "<div>\n",
       "<style scoped>\n",
       "    .dataframe tbody tr th:only-of-type {\n",
       "        vertical-align: middle;\n",
       "    }\n",
       "\n",
       "    .dataframe tbody tr th {\n",
       "        vertical-align: top;\n",
       "    }\n",
       "\n",
       "    .dataframe thead th {\n",
       "        text-align: right;\n",
       "    }\n",
       "</style>\n",
       "<table border=\"1\" class=\"dataframe\">\n",
       "  <thead>\n",
       "    <tr style=\"text-align: right;\">\n",
       "      <th></th>\n",
       "      <th>viewCount</th>\n",
       "      <th>likeCount</th>\n",
       "      <th>commentCount</th>\n",
       "      <th>durationSecs</th>\n",
       "    </tr>\n",
       "  </thead>\n",
       "  <tbody>\n",
       "    <tr>\n",
       "      <th>count</th>\n",
       "      <td>1.588000e+03</td>\n",
       "      <td>1588.000000</td>\n",
       "      <td>1587.000000</td>\n",
       "      <td>1588.000000</td>\n",
       "    </tr>\n",
       "    <tr>\n",
       "      <th>mean</th>\n",
       "      <td>4.616308e+04</td>\n",
       "      <td>1147.379723</td>\n",
       "      <td>68.689981</td>\n",
       "      <td>1269.889169</td>\n",
       "    </tr>\n",
       "    <tr>\n",
       "      <th>std</th>\n",
       "      <td>1.056498e+05</td>\n",
       "      <td>2536.614885</td>\n",
       "      <td>96.596121</td>\n",
       "      <td>2214.885135</td>\n",
       "    </tr>\n",
       "    <tr>\n",
       "      <th>min</th>\n",
       "      <td>9.490000e+02</td>\n",
       "      <td>13.000000</td>\n",
       "      <td>1.000000</td>\n",
       "      <td>9.000000</td>\n",
       "    </tr>\n",
       "    <tr>\n",
       "      <th>25%</th>\n",
       "      <td>8.855000e+03</td>\n",
       "      <td>273.000000</td>\n",
       "      <td>23.000000</td>\n",
       "      <td>447.750000</td>\n",
       "    </tr>\n",
       "    <tr>\n",
       "      <th>50%</th>\n",
       "      <td>1.808300e+04</td>\n",
       "      <td>537.000000</td>\n",
       "      <td>43.000000</td>\n",
       "      <td>689.500000</td>\n",
       "    </tr>\n",
       "    <tr>\n",
       "      <th>75%</th>\n",
       "      <td>4.531050e+04</td>\n",
       "      <td>1201.250000</td>\n",
       "      <td>80.000000</td>\n",
       "      <td>1138.250000</td>\n",
       "    </tr>\n",
       "    <tr>\n",
       "      <th>max</th>\n",
       "      <td>2.496554e+06</td>\n",
       "      <td>60425.000000</td>\n",
       "      <td>1624.000000</td>\n",
       "      <td>42896.000000</td>\n",
       "    </tr>\n",
       "  </tbody>\n",
       "</table>\n",
       "</div>"
      ],
      "text/plain": [
       "          viewCount     likeCount  commentCount  durationSecs\n",
       "count  1.588000e+03   1588.000000   1587.000000   1588.000000\n",
       "mean   4.616308e+04   1147.379723     68.689981   1269.889169\n",
       "std    1.056498e+05   2536.614885     96.596121   2214.885135\n",
       "min    9.490000e+02     13.000000      1.000000      9.000000\n",
       "25%    8.855000e+03    273.000000     23.000000    447.750000\n",
       "50%    1.808300e+04    537.000000     43.000000    689.500000\n",
       "75%    4.531050e+04   1201.250000     80.000000   1138.250000\n",
       "max    2.496554e+06  60425.000000   1624.000000  42896.000000"
      ]
     },
     "execution_count": 11,
     "metadata": {},
     "output_type": "execute_result"
    }
   ],
   "source": [
    "df.describe()"
   ]
  },
  {
   "cell_type": "code",
   "execution_count": 12,
   "metadata": {
    "execution": {
     "iopub.execute_input": "2023-04-12T13:20:51.340715Z",
     "iopub.status.busy": "2023-04-12T13:20:51.340077Z",
     "iopub.status.idle": "2023-04-12T13:20:51.347250Z",
     "shell.execute_reply": "2023-04-12T13:20:51.345690Z",
     "shell.execute_reply.started": "2023-04-12T13:20:51.340657Z"
    }
   },
   "outputs": [],
   "source": [
    "#To save file\n",
    "#df.to_csv('mycsv.csv', index =False)"
   ]
  },
  {
   "cell_type": "code",
   "execution_count": null,
   "metadata": {},
   "outputs": [],
   "source": []
  }
 ],
 "metadata": {
  "kernelspec": {
   "display_name": "Python 3 (ipykernel)",
   "language": "python",
   "name": "python3"
  },
  "language_info": {
   "codemirror_mode": {
    "name": "ipython",
    "version": 3
   },
   "file_extension": ".py",
   "mimetype": "text/x-python",
   "name": "python",
   "nbconvert_exporter": "python",
   "pygments_lexer": "ipython3",
   "version": "3.9.13"
  }
 },
 "nbformat": 4,
 "nbformat_minor": 4
}
